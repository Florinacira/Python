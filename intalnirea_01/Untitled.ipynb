{
 "cells": [
  {
   "cell_type": "code",
   "execution_count": 71,
   "id": "c7e13887",
   "metadata": {},
   "outputs": [
    {
     "name": "stdout",
     "output_type": "stream",
     "text": [
      "Florina\n",
      "27\n",
      "1.55\n",
      "True\n"
     ]
    }
   ],
   "source": [
    "#ex2\n",
    "nume = 'Florina'\n",
    "varsta = 27\n",
    "inaltime = 1.55\n",
    "cea_mai_frumoasa = True\n",
    "print(nume)\n",
    "print(varsta)\n",
    "print(inaltime)\n",
    "print(cea_mai_frumoasa)      \n"
   ]
  },
  {
   "cell_type": "code",
   "execution_count": 72,
   "id": "7e2843cc",
   "metadata": {},
   "outputs": [
    {
     "name": "stdout",
     "output_type": "stream",
     "text": [
      "<class 'str'>\n",
      "<class 'int'>\n",
      "<class 'float'>\n",
      "<class 'bool'>\n"
     ]
    }
   ],
   "source": [
    "#ex3\n",
    "print(type(nume))\n",
    "print(type(varsta))\n",
    "print(type(inaltime))\n",
    "print(type(cea_mai_frumoasa))"
   ]
  },
  {
   "cell_type": "code",
   "execution_count": 12,
   "id": "fb1eaa12",
   "metadata": {},
   "outputs": [
    {
     "name": "stdout",
     "output_type": "stream",
     "text": [
      "2\n",
      "<class 'float'>\n"
     ]
    }
   ],
   "source": [
    "#ex4 \n",
    "print(round(inaltime))\n",
    "print(type(inaltime))\n"
   ]
  },
  {
   "cell_type": "code",
   "execution_count": 13,
   "id": "11b35b22",
   "metadata": {},
   "outputs": [
    {
     "name": "stdout",
     "output_type": "stream",
     "text": [
      "Florina e cea mai perfecta.\n"
     ]
    }
   ],
   "source": [
    "#ex5\n",
    "print(f'{nume} e cea mai perfecta.')"
   ]
  },
  {
   "cell_type": "code",
   "execution_count": 15,
   "id": "8e90694b",
   "metadata": {},
   "outputs": [
    {
     "name": "stdout",
     "output_type": "stream",
     "text": [
      " Ea are 27 de ani.\n"
     ]
    }
   ],
   "source": [
    "print(f' Ea are {varsta} de ani.')"
   ]
  },
  {
   "cell_type": "code",
   "execution_count": 16,
   "id": "816b7d99",
   "metadata": {},
   "outputs": [
    {
     "name": "stdout",
     "output_type": "stream",
     "text": [
      "Florina are inltimea de 1.55 si arata grozav.\n"
     ]
    }
   ],
   "source": [
    "print(f'{nume} are inltimea de {inaltime} si arata grozav.')"
   ]
  },
  {
   "cell_type": "code",
   "execution_count": 18,
   "id": "165f4df4",
   "metadata": {},
   "outputs": [
    {
     "name": "stdout",
     "output_type": "stream",
     "text": [
      "Florina e cea mai frumoasa: True.\n"
     ]
    }
   ],
   "source": [
    "print(f'{nume} e cea mai frumoasa: {cea_mai_frumoasa}.')"
   ]
  },
  {
   "cell_type": "code",
   "execution_count": 22,
   "id": "e4e833db",
   "metadata": {},
   "outputs": [
    {
     "name": "stdout",
     "output_type": "stream",
     "text": [
      "Introduceti numele:Florina\n"
     ]
    }
   ],
   "source": [
    "#ex6\n",
    "nume1 = input('Introduceti numele:')"
   ]
  },
  {
   "cell_type": "code",
   "execution_count": 23,
   "id": "0a4004f4",
   "metadata": {},
   "outputs": [
    {
     "name": "stdout",
     "output_type": "stream",
     "text": [
      "Introduceti prenumele:Ancuta\n"
     ]
    }
   ],
   "source": [
    "prenume1= input('Introduceti prenumele:')"
   ]
  },
  {
   "cell_type": "code",
   "execution_count": 26,
   "id": "c5b73114",
   "metadata": {},
   "outputs": [
    {
     "name": "stdout",
     "output_type": "stream",
     "text": [
      "Numele complet are 13caractere.\n"
     ]
    }
   ],
   "source": [
    "print(f'Numele complet are {len(nume1 + prenume1)}caractere.')\n"
   ]
  },
  {
   "cell_type": "code",
   "execution_count": 27,
   "id": "3813f844",
   "metadata": {},
   "outputs": [
    {
     "name": "stdout",
     "output_type": "stream",
     "text": [
      "lungime:10\n",
      "latime:8\n"
     ]
    }
   ],
   "source": [
    "#ex7\n",
    "L = input('lungime:')\n",
    "l = input('latime:')"
   ]
  },
  {
   "cell_type": "code",
   "execution_count": 33,
   "id": "99700c22",
   "metadata": {},
   "outputs": [
    {
     "name": "stdout",
     "output_type": "stream",
     "text": [
      "Aria dreptunghiului este 80.\n"
     ]
    }
   ],
   "source": [
    "aria = int(L) * int (l)\n",
    "print(f'Aria dreptunghiului este {aria}.')"
   ]
  },
  {
   "cell_type": "code",
   "execution_count": 106,
   "id": "be1cb1a3",
   "metadata": {},
   "outputs": [
    {
     "ename": "KeyboardInterrupt",
     "evalue": "Interrupted by user",
     "output_type": "error",
     "traceback": [
      "\u001b[0;31m---------------------------------------------------------------------------\u001b[0m",
      "\u001b[0;31mKeyboardInterrupt\u001b[0m                         Traceback (most recent call last)",
      "Input \u001b[0;32mIn [106]\u001b[0m, in \u001b[0;36m<module>\u001b[0;34m\u001b[0m\n\u001b[1;32m      1\u001b[0m \u001b[38;5;66;03m#ex8\u001b[39;00m\n\u001b[1;32m      2\u001b[0m propozitie \u001b[38;5;241m=\u001b[39m \u001b[38;5;124m'\u001b[39m\u001b[38;5;124mCoral is either the stupidest animal or the smartest rock\u001b[39m\u001b[38;5;124m'\u001b[39m\n\u001b[0;32m----> 3\u001b[0m nr \u001b[38;5;241m=\u001b[39m \u001b[38;5;28;43minput\u001b[39;49m\u001b[43m(\u001b[49m\u001b[38;5;124;43m'\u001b[39;49m\u001b[38;5;124;43mnr:\u001b[39;49m\u001b[38;5;124;43m'\u001b[39;49m\u001b[43m)\u001b[49m\n",
      "File \u001b[0;32m~/PycharmProjects/intro/venv/lib/python3.10/site-packages/ipykernel/kernelbase.py:1075\u001b[0m, in \u001b[0;36mKernel.raw_input\u001b[0;34m(self, prompt)\u001b[0m\n\u001b[1;32m   1071\u001b[0m \u001b[38;5;28;01mif\u001b[39;00m \u001b[38;5;129;01mnot\u001b[39;00m \u001b[38;5;28mself\u001b[39m\u001b[38;5;241m.\u001b[39m_allow_stdin:\n\u001b[1;32m   1072\u001b[0m     \u001b[38;5;28;01mraise\u001b[39;00m StdinNotImplementedError(\n\u001b[1;32m   1073\u001b[0m         \u001b[38;5;124m\"\u001b[39m\u001b[38;5;124mraw_input was called, but this frontend does not support input requests.\u001b[39m\u001b[38;5;124m\"\u001b[39m\n\u001b[1;32m   1074\u001b[0m     )\n\u001b[0;32m-> 1075\u001b[0m \u001b[38;5;28;01mreturn\u001b[39;00m \u001b[38;5;28;43mself\u001b[39;49m\u001b[38;5;241;43m.\u001b[39;49m\u001b[43m_input_request\u001b[49m\u001b[43m(\u001b[49m\n\u001b[1;32m   1076\u001b[0m \u001b[43m    \u001b[49m\u001b[38;5;28;43mstr\u001b[39;49m\u001b[43m(\u001b[49m\u001b[43mprompt\u001b[49m\u001b[43m)\u001b[49m\u001b[43m,\u001b[49m\n\u001b[1;32m   1077\u001b[0m \u001b[43m    \u001b[49m\u001b[38;5;28;43mself\u001b[39;49m\u001b[38;5;241;43m.\u001b[39;49m\u001b[43m_parent_ident\u001b[49m\u001b[43m[\u001b[49m\u001b[38;5;124;43m\"\u001b[39;49m\u001b[38;5;124;43mshell\u001b[39;49m\u001b[38;5;124;43m\"\u001b[39;49m\u001b[43m]\u001b[49m\u001b[43m,\u001b[49m\n\u001b[1;32m   1078\u001b[0m \u001b[43m    \u001b[49m\u001b[38;5;28;43mself\u001b[39;49m\u001b[38;5;241;43m.\u001b[39;49m\u001b[43mget_parent\u001b[49m\u001b[43m(\u001b[49m\u001b[38;5;124;43m\"\u001b[39;49m\u001b[38;5;124;43mshell\u001b[39;49m\u001b[38;5;124;43m\"\u001b[39;49m\u001b[43m)\u001b[49m\u001b[43m,\u001b[49m\n\u001b[1;32m   1079\u001b[0m \u001b[43m    \u001b[49m\u001b[43mpassword\u001b[49m\u001b[38;5;241;43m=\u001b[39;49m\u001b[38;5;28;43;01mFalse\u001b[39;49;00m\u001b[43m,\u001b[49m\n\u001b[1;32m   1080\u001b[0m \u001b[43m\u001b[49m\u001b[43m)\u001b[49m\n",
      "File \u001b[0;32m~/PycharmProjects/intro/venv/lib/python3.10/site-packages/ipykernel/kernelbase.py:1120\u001b[0m, in \u001b[0;36mKernel._input_request\u001b[0;34m(self, prompt, ident, parent, password)\u001b[0m\n\u001b[1;32m   1117\u001b[0m             \u001b[38;5;28;01mbreak\u001b[39;00m\n\u001b[1;32m   1118\u001b[0m \u001b[38;5;28;01mexcept\u001b[39;00m \u001b[38;5;167;01mKeyboardInterrupt\u001b[39;00m:\n\u001b[1;32m   1119\u001b[0m     \u001b[38;5;66;03m# re-raise KeyboardInterrupt, to truncate traceback\u001b[39;00m\n\u001b[0;32m-> 1120\u001b[0m     \u001b[38;5;28;01mraise\u001b[39;00m \u001b[38;5;167;01mKeyboardInterrupt\u001b[39;00m(\u001b[38;5;124m\"\u001b[39m\u001b[38;5;124mInterrupted by user\u001b[39m\u001b[38;5;124m\"\u001b[39m) \u001b[38;5;28;01mfrom\u001b[39;00m \u001b[38;5;28mNone\u001b[39m\n\u001b[1;32m   1121\u001b[0m \u001b[38;5;28;01mexcept\u001b[39;00m \u001b[38;5;167;01mException\u001b[39;00m:\n\u001b[1;32m   1122\u001b[0m     \u001b[38;5;28mself\u001b[39m\u001b[38;5;241m.\u001b[39mlog\u001b[38;5;241m.\u001b[39mwarning(\u001b[38;5;124m\"\u001b[39m\u001b[38;5;124mInvalid Message:\u001b[39m\u001b[38;5;124m\"\u001b[39m, exc_info\u001b[38;5;241m=\u001b[39m\u001b[38;5;28;01mTrue\u001b[39;00m)\n",
      "\u001b[0;31mKeyboardInterrupt\u001b[0m: Interrupted by user"
     ]
    }
   ],
   "source": [
    "#ex8\n",
    "propozitie = 'Coral is either the stupidest animal or the smartest rock'\n",
    "nr = input('nr:')"
   ]
  },
  {
   "cell_type": "code",
   "execution_count": 109,
   "id": "b237a044",
   "metadata": {},
   "outputs": [
    {
     "ename": "TypeError",
     "evalue": "'str' object is not callable",
     "output_type": "error",
     "traceback": [
      "\u001b[0;31m---------------------------------------------------------------------------\u001b[0m",
      "\u001b[0;31mTypeError\u001b[0m                                 Traceback (most recent call last)",
      "Input \u001b[0;32mIn [109]\u001b[0m, in \u001b[0;36m<module>\u001b[0;34m\u001b[0m\n\u001b[0;32m----> 1\u001b[0m \u001b[38;5;28mprint\u001b[39m(propozitie[:\u001b[38;5;241m-\u001b[39m\u001b[38;5;28;43mint\u001b[39;49m\u001b[43m(\u001b[49m\u001b[43mnr\u001b[49m\u001b[43m)\u001b[49m])\n",
      "\u001b[0;31mTypeError\u001b[0m: 'str' object is not callable"
     ]
    }
   ],
   "source": [
    "print(propozitie[:-int(nr)])"
   ]
  },
  {
   "cell_type": "code",
   "execution_count": 47,
   "id": "5daa9eba",
   "metadata": {},
   "outputs": [
    {
     "name": "stdout",
     "output_type": "stream",
     "text": [
      "cea mai\n"
     ]
    }
   ],
   "source": [
    "#ex9\n",
    "p = 'Ancuta e cea mai frumoasa.'\n",
    "print(p[9:-10])"
   ]
  },
  {
   "cell_type": "code",
   "execution_count": 54,
   "id": "b6ca7d2a",
   "metadata": {},
   "outputs": [
    {
     "name": "stdout",
     "output_type": "stream",
     "text": [
      "voi merge  si nu am\n"
     ]
    }
   ],
   "source": [
    "p1 = 'Maine voi merge la lucru si nu am chef.'\n",
    "print(p1[6:16] + p1[-15:-6])"
   ]
  },
  {
   "cell_type": "code",
   "execution_count": 60,
   "id": "be09f7ab",
   "metadata": {},
   "outputs": [],
   "source": []
  },
  {
   "cell_type": "code",
   "execution_count": 61,
   "id": "e3fc43ea",
   "metadata": {},
   "outputs": [
    {
     "name": "stdout",
     "output_type": "stream",
     "text": [
      "Coral rock\n"
     ]
    }
   ],
   "source": [
    "primele_caractere = propozitie[ :5]\n",
    "ultimele_caractere = propozitie[-5:]\n",
    "print(primele_caractere + ultimele_caractere)\n",
    "\n"
   ]
  },
  {
   "cell_type": "code",
   "execution_count": 62,
   "id": "b9f309c8",
   "metadata": {},
   "outputs": [
    {
     "name": "stdout",
     "output_type": "stream",
     "text": [
      "3\n"
     ]
    }
   ],
   "source": [
    "#ex10\n",
    "print(propozitie.count('the'))\n",
    "\n"
   ]
  },
  {
   "cell_type": "code",
   "execution_count": 63,
   "id": "729a97ba",
   "metadata": {},
   "outputs": [
    {
     "name": "stdout",
     "output_type": "stream",
     "text": [
      "Coral is eiTHEr THE stupidest animal or THE smartest rock\n"
     ]
    }
   ],
   "source": [
    "#ex11\n",
    "print(propozitie.replace('the', 'THE'))"
   ]
  },
  {
   "cell_type": "code",
   "execution_count": 65,
   "id": "3cb16c65",
   "metadata": {},
   "outputs": [],
   "source": [
    "#ex12\n",
    "index = propozitie.find('rock')"
   ]
  },
  {
   "cell_type": "code",
   "execution_count": 66,
   "id": "86a60c3c",
   "metadata": {},
   "outputs": [
    {
     "name": "stdout",
     "output_type": "stream",
     "text": [
      "53\n"
     ]
    }
   ],
   "source": [
    "print(index)"
   ]
  },
  {
   "cell_type": "code",
   "execution_count": 67,
   "id": "832e2e40",
   "metadata": {},
   "outputs": [
    {
     "name": "stdout",
     "output_type": "stream",
     "text": [
      "Coral is either the stupidest animal or the smartest \n"
     ]
    }
   ],
   "source": [
    "print(propozitie[:53])"
   ]
  },
  {
   "cell_type": "code",
   "execution_count": 70,
   "id": "eb05acda",
   "metadata": {},
   "outputs": [],
   "source": [
    "#ex13\n",
    "alta_prop = (f'Numele meu este {nume}, am {varsta} de ani, Inaltimea mea e de {inaltime} si sunt cea mai frumoasa {cea_mai_frumoasa}')"
   ]
  },
  {
   "cell_type": "code",
   "execution_count": 73,
   "id": "3c33b09f",
   "metadata": {},
   "outputs": [
    {
     "name": "stdout",
     "output_type": "stream",
     "text": [
      "Numele meu este Florina, am 27 de ani, Inaltimea mea e de 1.55 si sunt cea mai frumoasa True\n"
     ]
    }
   ],
   "source": [
    "print(alta_prop)"
   ]
  },
  {
   "cell_type": "code",
   "execution_count": 74,
   "id": "d4711d9b",
   "metadata": {},
   "outputs": [
    {
     "name": "stdout",
     "output_type": "stream",
     "text": [
      "02468\n"
     ]
    }
   ],
   "source": [
    "#14\n",
    "string = '0123456789'\n",
    "print(string[::2])\n"
   ]
  },
  {
   "cell_type": "code",
   "execution_count": 76,
   "id": "d053917e",
   "metadata": {},
   "outputs": [
    {
     "name": "stdout",
     "output_type": "stream",
     "text": [
      "13579\n"
     ]
    }
   ],
   "source": [
    "print(string[1::2])"
   ]
  },
  {
   "cell_type": "code",
   "execution_count": 95,
   "id": "54109698",
   "metadata": {},
   "outputs": [
    {
     "name": "stdout",
     "output_type": "stream",
     "text": [
      "introduceti lungimea:66\n"
     ]
    }
   ],
   "source": [
    "#ex15\n",
    "lungime = input('introduceti lungimea:')\n"
   ]
  },
  {
   "cell_type": "code",
   "execution_count": 93,
   "id": "67fb5a0a",
   "metadata": {},
   "outputs": [
    {
     "name": "stdout",
     "output_type": "stream",
     "text": [
      "introduceti latime:33\n"
     ]
    }
   ],
   "source": [
    "latime = input('introduceti latime:')"
   ]
  },
  {
   "cell_type": "code",
   "execution_count": 98,
   "id": "24330d76",
   "metadata": {},
   "outputs": [
    {
     "ename": "TypeError",
     "evalue": "'str' object is not callable",
     "output_type": "error",
     "traceback": [
      "\u001b[0;31m---------------------------------------------------------------------------\u001b[0m",
      "\u001b[0;31mTypeError\u001b[0m                                 Traceback (most recent call last)",
      "Input \u001b[0;32mIn [98]\u001b[0m, in \u001b[0;36m<module>\u001b[0;34m\u001b[0m\n\u001b[0;32m----> 1\u001b[0m aria1 \u001b[38;5;241m=\u001b[39m \u001b[38;5;28;43mint\u001b[39;49m\u001b[43m(\u001b[49m\u001b[43mlungime\u001b[49m\u001b[43m)\u001b[49m \u001b[38;5;241m*\u001b[39m \u001b[38;5;28mint\u001b[39m(latime)\n\u001b[1;32m      2\u001b[0m \u001b[38;5;28mprint\u001b[39m(aria1)\n",
      "\u001b[0;31mTypeError\u001b[0m: 'str' object is not callable"
     ]
    }
   ],
   "source": [
    "aria1 = int(lungime) * int(latime)\n",
    "print(aria1)"
   ]
  },
  {
   "cell_type": "code",
   "execution_count": 115,
   "id": "4718f9df",
   "metadata": {},
   "outputs": [
    {
     "name": "stdout",
     "output_type": "stream",
     "text": [
      "Introduceti un string de dimensiune impara: fghbv\n",
      "h\n"
     ]
    }
   ],
   "source": [
    "# ex16\n",
    "s = input('Introduceti un string de dimensiune impara: ')\n",
    "\n",
    "print(s[len(s)//2]) "
   ]
  },
  {
   "cell_type": "code",
   "execution_count": 116,
   "id": "70480c66",
   "metadata": {},
   "outputs": [
    {
     "name": "stdout",
     "output_type": "stream",
     "text": [
      "Introduceti doua cuvinte: Bodgan fraier\n",
      "Bodgan\n",
      "fraier\n"
     ]
    }
   ],
   "source": [
    "#ex17\n",
    "str_1 , str_2 = input('Introduceti doua cuvinte: ').split(' ')\n",
    "print(str_1)\n",
    "print(str_2)\n",
    "\n"
   ]
  },
  {
   "cell_type": "code",
   "execution_count": null,
   "id": "cc04ca88",
   "metadata": {},
   "outputs": [],
   "source": []
  },
  {
   "cell_type": "code",
   "execution_count": null,
   "id": "c85cf38d",
   "metadata": {},
   "outputs": [],
   "source": []
  },
  {
   "cell_type": "code",
   "execution_count": null,
   "id": "46c65075",
   "metadata": {},
   "outputs": [],
   "source": []
  }
 ],
 "metadata": {
  "kernelspec": {
   "display_name": "Python 3 (ipykernel)",
   "language": "python",
   "name": "python3"
  },
  "language_info": {
   "codemirror_mode": {
    "name": "ipython",
    "version": 3
   },
   "file_extension": ".py",
   "mimetype": "text/x-python",
   "name": "python",
   "nbconvert_exporter": "python",
   "pygments_lexer": "ipython3",
   "version": "3.10.2"
  }
 },
 "nbformat": 4,
 "nbformat_minor": 5
}
