{
 "cells": [
  {
   "cell_type": "code",
   "execution_count": null,
   "id": "0f167d2a",
   "metadata": {},
   "outputs": [],
   "source": [
    "#ex1\n",
    "# O variabila este o locatie de memorie in care se pot aseza valori\n"
   ]
  },
  {
   "cell_type": "code",
   "execution_count": 21,
   "id": "9995fb35",
   "metadata": {},
   "outputs": [
    {
     "name": "stdout",
     "output_type": "stream",
     "text": [
      "Florina\n",
      "<class 'str'>\n"
     ]
    }
   ],
   "source": [
    "#ex2 si 3\n",
    "nume = 'Florina'\n",
    "print(nume)\n",
    "print(type(nume))\n"
   ]
  },
  {
   "cell_type": "code",
   "execution_count": 22,
   "id": "ff156c40",
   "metadata": {},
   "outputs": [
    {
     "name": "stdout",
     "output_type": "stream",
     "text": [
      "27\n",
      "<class 'int'>\n"
     ]
    }
   ],
   "source": [
    "varsta = 27\n",
    "print(varsta)\n",
    "print(type(varsta))"
   ]
  },
  {
   "cell_type": "code",
   "execution_count": 24,
   "id": "005d1579",
   "metadata": {},
   "outputs": [
    {
     "name": "stdout",
     "output_type": "stream",
     "text": [
      "2.5\n",
      "<class 'float'>\n"
     ]
    }
   ],
   "source": [
    "z = 2.5\n",
    "print(z)\n",
    "print(type(z))"
   ]
  },
  {
   "cell_type": "code",
   "execution_count": 23,
   "id": "8fed83da",
   "metadata": {},
   "outputs": [
    {
     "name": "stdout",
     "output_type": "stream",
     "text": [
      "True\n",
      "<class 'str'>\n"
     ]
    }
   ],
   "source": [
    "f = 'True'\n",
    "print(f)\n",
    "print(type(f))"
   ]
  },
  {
   "cell_type": "code",
   "execution_count": 161,
   "id": "6be8272a",
   "metadata": {},
   "outputs": [
    {
     "name": "stdout",
     "output_type": "stream",
     "text": [
      "2\n",
      "<class 'float'>\n"
     ]
    }
   ],
   "source": [
    "#ex4\n",
    "z = 2.5\n",
    "print(round(z))\n",
    "print(type(z))"
   ]
  },
  {
   "cell_type": "code",
   "execution_count": 134,
   "id": "1fd14ab5",
   "metadata": {},
   "outputs": [
    {
     "name": "stdout",
     "output_type": "stream",
     "text": [
      "Primul meu nume este:Florina\n"
     ]
    }
   ],
   "source": [
    "#ex5\n",
    "nume = 'Florina'\n",
    "print(f'Primul meu nume este:{nume}')"
   ]
  },
  {
   "cell_type": "code",
   "execution_count": 133,
   "id": "7f7a2e97",
   "metadata": {},
   "outputs": [
    {
     "name": "stdout",
     "output_type": "stream",
     "text": [
      "Eu am 27 de ani\n"
     ]
    }
   ],
   "source": [
    "varsta = 27\n",
    "print(f'Eu am {varsta} de ani')"
   ]
  },
  {
   "cell_type": "code",
   "execution_count": 162,
   "id": "38cc5270",
   "metadata": {},
   "outputs": [
    {
     "name": "stdout",
     "output_type": "stream",
     "text": [
      "2.5 este un numar zecimal\n"
     ]
    }
   ],
   "source": [
    "z = 2.5\n",
    "print(f'{z} este un numar zecimal')"
   ]
  },
  {
   "cell_type": "code",
   "execution_count": 1,
   "id": "dca1016e",
   "metadata": {},
   "outputs": [
    {
     "name": "stdout",
     "output_type": "stream",
     "text": [
      " f este o litera: True\n"
     ]
    }
   ],
   "source": [
    "f= True\n",
    "print(f' f este o litera: {f}')"
   ]
  },
  {
   "cell_type": "code",
   "execution_count": 126,
   "id": "67aef788",
   "metadata": {},
   "outputs": [
    {
     "name": "stdout",
     "output_type": "stream",
     "text": [
      "Intoduceti Nume:Cira\n",
      "Introduceti Prenume:Florina\n"
     ]
    }
   ],
   "source": [
    "#ex6\n",
    "nume1 = input('Intoduceti Nume:')\n",
    "prenume1 = input('Introduceti Prenume:')\n",
    "\n"
   ]
  },
  {
   "cell_type": "code",
   "execution_count": 128,
   "id": "d8fa193b",
   "metadata": {},
   "outputs": [
    {
     "name": "stdout",
     "output_type": "stream",
     "text": [
      "Numele complet are 11 caractere\n"
     ]
    }
   ],
   "source": [
    "print(f'Numele complet are {len(nume1 + prenume1)} caractere')"
   ]
  },
  {
   "cell_type": "code",
   "execution_count": 4,
   "id": "fcd42c1a",
   "metadata": {},
   "outputs": [
    {
     "name": "stdout",
     "output_type": "stream",
     "text": [
      "Lungime:10\n",
      "Latime:5\n"
     ]
    }
   ],
   "source": [
    "#ex7\n",
    "L = input('Lungime:')\n",
    "l = input('Latime:')"
   ]
  },
  {
   "cell_type": "code",
   "execution_count": 9,
   "id": "918eea54",
   "metadata": {},
   "outputs": [
    {
     "name": "stdout",
     "output_type": "stream",
     "text": [
      "50\n",
      "Aria dreptunghiului este 50\n"
     ]
    }
   ],
   "source": [
    "aria = int(L)*int(l)\n",
    "print(aria)\n",
    "print(f'Aria dreptunghiului este {aria}')"
   ]
  },
  {
   "cell_type": "code",
   "execution_count": null,
   "id": "b1ab2339",
   "metadata": {},
   "outputs": [],
   "source": [
    "#ex8\n",
    "propozitie = 'Coral is either the stupidest animal or the smartest rock'\n",
    "x = input()"
   ]
  },
  {
   "cell_type": "code",
   "execution_count": null,
   "id": "c6756666",
   "metadata": {},
   "outputs": [],
   "source": [
    "print(propozitie[:-int(x)]) "
   ]
  },
  {
   "cell_type": "code",
   "execution_count": 13,
   "id": "578bf232",
   "metadata": {},
   "outputs": [
    {
     "name": "stdout",
     "output_type": "stream",
     "text": [
      "Coral rock\n"
     ]
    }
   ],
   "source": [
    "#ex9\n",
    "primele_caractere = propozitie[ 0:5]\n",
    "ultimele_caractere = propozitie[-5:]\n",
    "print(primele_caractere + ultimele_caractere)\n"
   ]
  },
  {
   "cell_type": "code",
   "execution_count": 74,
   "id": "1c076c5c",
   "metadata": {},
   "outputs": [
    {
     "name": "stdout",
     "output_type": "stream",
     "text": [
      "3\n"
     ]
    }
   ],
   "source": [
    "#ex10\n",
    "print(propozitie.count('the'))"
   ]
  },
  {
   "cell_type": "code",
   "execution_count": 40,
   "id": "00c34d28",
   "metadata": {},
   "outputs": [
    {
     "name": "stdout",
     "output_type": "stream",
     "text": [
      "Coral is eiTHEr THE stupidest animal or THE smartest rock\n"
     ]
    }
   ],
   "source": [
    "#ex11\n",
    "print(propozitie.replace('the','THE'))"
   ]
  },
  {
   "cell_type": "code",
   "execution_count": 88,
   "id": "110856e8",
   "metadata": {},
   "outputs": [
    {
     "name": "stdout",
     "output_type": "stream",
     "text": [
      "53\n",
      "Coral is either the stupidest animal or the smartest \n"
     ]
    }
   ],
   "source": [
    "#ex12\n",
    "p = propozitie.find('rock')\n",
    "print(p)\n",
    "print(propozitie [:53])"
   ]
  },
  {
   "cell_type": "code",
   "execution_count": 25,
   "id": "5d7221c1",
   "metadata": {},
   "outputs": [
    {
     "name": "stdout",
     "output_type": "stream",
     "text": [
      "Numele meu e Florina, am 27 de ani, iar 2.5 e un numar zecimal: True\n"
     ]
    }
   ],
   "source": [
    "#ex13\n",
    "var_str = (f'Numele meu e {nume}, am {varsta} de ani, iar {z} e un numar zecimal: {f}')\n",
    "print(var_str)"
   ]
  },
  {
   "cell_type": "code",
   "execution_count": 14,
   "id": "cc233038",
   "metadata": {},
   "outputs": [
    {
     "name": "stdout",
     "output_type": "stream",
     "text": [
      "02468\n",
      "13579\n"
     ]
    }
   ],
   "source": [
    "#ex14\n",
    "string = '0123456789'\n",
    "print(string[::2])\n",
    "print(string[1::2])\n",
    "\n"
   ]
  },
  {
   "cell_type": "code",
   "execution_count": 19,
   "id": "3fd7d84a",
   "metadata": {
    "scrolled": false
   },
   "outputs": [
    {
     "name": "stdout",
     "output_type": "stream",
     "text": [
      "Lungime:20\n",
      "latime:10\n"
     ]
    }
   ],
   "source": [
    "#ex15\n",
    "lungime = input('Lungime:')\n",
    "latime= input('latime:')\n"
   ]
  },
  {
   "cell_type": "code",
   "execution_count": 168,
   "id": "cf4fc2be",
   "metadata": {
    "scrolled": false
   },
   "outputs": [
    {
     "name": "stdout",
     "output_type": "stream",
     "text": [
      "200\n"
     ]
    }
   ],
   "source": [
    "aria = int(lungime) * int(latime)\n",
    "print(aria)"
   ]
  },
  {
   "cell_type": "code",
   "execution_count": 177,
   "id": "f3090b04",
   "metadata": {
    "scrolled": true
   },
   "outputs": [
    {
     "name": "stdout",
     "output_type": "stream",
     "text": [
      "Intorduceti un numar impar: 23\n"
     ]
    }
   ],
   "source": [
    "#ex16\n",
    "str_01 = input('Intorduceti un numar impar: ')\n"
   ]
  },
  {
   "cell_type": "code",
   "execution_count": 182,
   "id": "4fc58f0f",
   "metadata": {
    "scrolled": true
   },
   "outputs": [
    {
     "name": "stdout",
     "output_type": "stream",
     "text": [
      "Introduceti doua cuvinte: învăț Python\n",
      "învăț\n",
      "Python\n"
     ]
    }
   ],
   "source": [
    "#ex17\n",
    "str_1 , str_2 = input('Introduceti doua cuvinte: ').split(' ')\n",
    "print(str_1)\n",
    "print(str_2)\n"
   ]
  },
  {
   "cell_type": "code",
   "execution_count": 29,
   "id": "c6c40fb8",
   "metadata": {},
   "outputs": [
    {
     "name": "stdout",
     "output_type": "stream",
     "text": [
      "Scrie ceva: alabala portocala\n"
     ]
    }
   ],
   "source": [
    "#ex18\n",
    "str_3 = input('Scrie ceva: ')"
   ]
  },
  {
   "cell_type": "code",
   "execution_count": 30,
   "id": "e2904096",
   "metadata": {},
   "outputs": [
    {
     "name": "stdout",
     "output_type": "stream",
     "text": [
      "a\n"
     ]
    }
   ],
   "source": [
    "str_4 = str_3 [0]\n",
    "print(str_4)"
   ]
  },
  {
   "cell_type": "code",
   "execution_count": 31,
   "id": "7fe5ab32",
   "metadata": {},
   "outputs": [
    {
     "name": "stdout",
     "output_type": "stream",
     "text": [
      "aLABALA PORTOCALa\n"
     ]
    }
   ],
   "source": [
    "print (str_3[0] + str_3[1:-1].upper( ) + str_3[-1])"
   ]
  },
  {
   "cell_type": "code",
   "execution_count": null,
   "id": "000b79ec",
   "metadata": {},
   "outputs": [],
   "source": [
    "#ex19\n",
    "\n",
    "user = input( 'User:')\n",
    "parola = input('Parola:')\n",
    "print(user)\n",
    "print(parola)\n"
   ]
  },
  {
   "cell_type": "code",
   "execution_count": null,
   "id": "d54d8b18",
   "metadata": {},
   "outputs": [],
   "source": [
    "#nu stiu sa rezolv mai departe "
   ]
  }
 ],
 "metadata": {
  "kernelspec": {
   "display_name": "Python 3 (ipykernel)",
   "language": "python",
   "name": "python3"
  },
  "language_info": {
   "codemirror_mode": {
    "name": "ipython",
    "version": 3
   },
   "file_extension": ".py",
   "mimetype": "text/x-python",
   "name": "python",
   "nbconvert_exporter": "python",
   "pygments_lexer": "ipython3",
   "version": "3.10.2"
  }
 },
 "nbformat": 4,
 "nbformat_minor": 5
}
